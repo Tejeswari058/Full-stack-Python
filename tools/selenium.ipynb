{
  "nbformat": 4,
  "nbformat_minor": 0,
  "metadata": {
    "colab": {
      "name": "selenium.ipynb",
      "provenance": [],
      "include_colab_link": true
    },
    "kernelspec": {
      "name": "python3",
      "display_name": "Python 3"
    }
  },
  "cells": [
    {
      "cell_type": "markdown",
      "metadata": {
        "id": "view-in-github",
        "colab_type": "text"
      },
      "source": [
        "<a href=\"https://colab.research.google.com/github/Tejeswari058/Full-stack-Python/blob/main/tools/selenium.ipynb\" target=\"_parent\"><img src=\"https://colab.research.google.com/assets/colab-badge.svg\" alt=\"Open In Colab\"/></a>"
      ]
    },
    {
      "metadata": {
        "id": "Uw14LlZLsGQM"
      },
      "cell_type": "markdown",
      "source": [
        "# Selenium\n",
        "Allow the remote contro of a browser, in this case firefox\n",
        "\n",
        "See the [Manual](https://www.seleniumhq.org/docs/03_webdriver.jsp)"
      ]
    },
    {
      "cell_type": "code",
      "source": [
        "from selenium import webdriver\n",
        "from selenium.webdriver.common.by import By\n",
        "from selenium.webdriver.support.ui import WebDriverWait\n",
        "from selenium.webdriver.support import expected_conditions as EC\n",
        "\n",
        "# Initialize the web driver (replace \"path/to/chromedriver\" with your actual driver path)\n",
        "driver = webdriver.Chrome(executable_path=\"path/to/chromedriver\")\n",
        "\n",
        "# Open the Facebook registration page\n",
        "driver.get(\"https://www.facebook.com/r.php\")\n",
        "# Function to check if an element is present on the page\n",
        "def is_element_present(by, value):\n",
        "try:\n",
        "driver.find_element(by, value)\n",
        "return True\n",
        "except NoSuchElementException:\n",
        "return False\n",
        "\n",
        "Function to validate each field\n",
        "def validate_field(field_name, by, value):\n",
        "if is_element_present(by, value):\n",
        "print(f\"{field_name} field is present.\")\n",
        "else:\n",
        "print(f\"{field_name} field is NOT present.\")\n",
        "\n",
        "# Validate each field on the Facebook registration page\n",
        "validate_field(\"First Name\", By.NAME, \"firstname\")\n",
        "validate_field(\"Last Name\", By.NAME, \"lastname\")\n",
        "validate_field(\"Mobile or Email\", By.NAME, \"reg_email__\")\n",
        "validate_field(\"New Password\", By.NAME, \"reg_passwd__\")\n",
        "validate_field(\"Birthday\", By.NAME, \"birthday_wrapper\")\n",
        "validate_field(\"Gender\", By.NAME, \"sex\")\n",
        "validate_field(\"Sign Up Button\", By.NAME, \"websubmit\")\n",
        "# Close the browser\n",
        "driver.quit()"
      ],
      "metadata": {
        "id": "zE5B8Dn65uyE",
        "outputId": "91bf535d-1144-4df9-e440-34319e8e4cc5",
        "colab": {
          "base_uri": "https://localhost:8080/",
          "height": 106
        }
      },
      "execution_count": 1,
      "outputs": [
        {
          "output_type": "error",
          "ename": "IndentationError",
          "evalue": "expected an indented block after function definition on line 12 (ipython-input-1-3201638668.py, line 13)",
          "traceback": [
            "\u001b[0;36m  File \u001b[0;32m\"/tmp/ipython-input-1-3201638668.py\"\u001b[0;36m, line \u001b[0;32m13\u001b[0m\n\u001b[0;31m    try:\u001b[0m\n\u001b[0m    ^\u001b[0m\n\u001b[0;31mIndentationError\u001b[0m\u001b[0;31m:\u001b[0m expected an indented block after function definition on line 12\n"
          ]
        }
      ]
    },
    {
      "metadata": {
        "id": "7BjPnvG8RMrf"
      },
      "cell_type": "code",
      "source": [
        "! apt install firefox  xvfb > /dev/null"
      ],
      "execution_count": null,
      "outputs": []
    },
    {
      "metadata": {
        "id": "zd7i562JRI91"
      },
      "cell_type": "code",
      "source": [
        "! pip3 install  pyvirtualdisplay selenium webdriver_manager  > /dev/null"
      ],
      "execution_count": null,
      "outputs": []
    },
    {
      "metadata": {
        "id": "mFHVJPcVthkI"
      },
      "cell_type": "markdown",
      "source": [
        "## Side by side mode\n",
        "The default mode is that a new browser window is open from your, in this case, Python execution enviroment. The code window is the remote control of that specific  browser window."
      ]
    },
    {
      "metadata": {
        "id": "cgiurceTuqAz"
      },
      "cell_type": "code",
      "source": [
        "from webdriver_manager.firefox import GeckoDriverManager\n",
        "from selenium import webdriver\n",
        "\n",
        "\n",
        "browser = webdriver.Firefox(executable_path=\n",
        "                GeckoDriverManager().install())"
      ],
      "execution_count": null,
      "outputs": []
    },
    {
      "metadata": {
        "id": "zNxrc6iW1LJa"
      },
      "cell_type": "markdown",
      "source": [
        "### Simple example"
      ]
    },
    {
      "metadata": {
        "id": "djXqQQqP1YvQ"
      },
      "cell_type": "code",
      "source": [
        "browser.get('http://fisica.udea.edu.co')\n",
        "\n",
        "browser.find_element_by_link_text('Instituto').click()"
      ],
      "execution_count": null,
      "outputs": []
    },
    {
      "metadata": {
        "id": "1sqWFwnR4Joi"
      },
      "cell_type": "markdown",
      "source": [
        "Capture the last visited page"
      ]
    },
    {
      "metadata": {
        "id": "KcZmB1Ck2ze4"
      },
      "cell_type": "code",
      "source": [
        "html=browser.page_source"
      ],
      "execution_count": null,
      "outputs": []
    },
    {
      "metadata": {
        "id": "0W28602hutzS"
      },
      "cell_type": "code",
      "source": [
        "browser.close()"
      ],
      "execution_count": null,
      "outputs": []
    },
    {
      "metadata": {
        "id": "3pcSg5I51b_y"
      },
      "cell_type": "markdown",
      "source": [
        "### Google search example"
      ]
    },
    {
      "metadata": {
        "id": "gmRMC4Dr1nGN",
        "colab": {
          "base_uri": "https://localhost:8080/",
          "height": 141
        },
        "outputId": "53c448f0-9066-494d-fe00-24a93b14158c"
      },
      "cell_type": "code",
      "source": [
        "browser.get('http://google.com')"
      ],
      "execution_count": 2,
      "outputs": [
        {
          "output_type": "error",
          "ename": "NameError",
          "evalue": "name 'browser' is not defined",
          "traceback": [
            "\u001b[0;31m---------------------------------------------------------------------------\u001b[0m",
            "\u001b[0;31mNameError\u001b[0m                                 Traceback (most recent call last)",
            "\u001b[0;32m/tmp/ipython-input-2-90894218.py\u001b[0m in \u001b[0;36m<cell line: 0>\u001b[0;34m()\u001b[0m\n\u001b[0;32m----> 1\u001b[0;31m \u001b[0mbrowser\u001b[0m\u001b[0;34m.\u001b[0m\u001b[0mget\u001b[0m\u001b[0;34m(\u001b[0m\u001b[0;34m'http://google.com'\u001b[0m\u001b[0;34m)\u001b[0m\u001b[0;34m\u001b[0m\u001b[0;34m\u001b[0m\u001b[0m\n\u001b[0m",
            "\u001b[0;31mNameError\u001b[0m: name 'browser' is not defined"
          ]
        }
      ]
    },
    {
      "metadata": {
        "id": "f0vVcIM81uvZ"
      },
      "cell_type": "markdown",
      "source": [
        "Find the `id` element by putting the mouse pointer on the search box."
      ]
    },
    {
      "metadata": {
        "id": "ZyDg5ivw1wTR"
      },
      "cell_type": "code",
      "source": [
        "browser.find_element_by_id('lst-ib').clear()\n",
        "browser.find_element_by_id('lst-ib').send_keys('hello world')"
      ],
      "execution_count": null,
      "outputs": []
    },
    {
      "metadata": {
        "id": "KdT_1WeQ2DQZ"
      },
      "cell_type": "markdown",
      "source": [
        "With the mouse pointer on the search button, right click and choose `Inspect` and check the button name"
      ]
    },
    {
      "metadata": {
        "id": "9Qg5sKQi2LAu"
      },
      "cell_type": "code",
      "source": [
        "browser.find_element_by_name(\"btnK\").click()"
      ],
      "execution_count": null,
      "outputs": []
    },
    {
      "metadata": {
        "id": "2Zth-sfA6z6z"
      },
      "cell_type": "code",
      "source": [
        "html=browser.page_source"
      ],
      "execution_count": null,
      "outputs": []
    },
    {
      "metadata": {
        "id": "dQajB58Fuvm-"
      },
      "cell_type": "markdown",
      "source": [
        "## Hidden mode\n",
        "A virtual display is generated where the broeser window is hidden"
      ]
    },
    {
      "metadata": {
        "id": "--i6YklVRlIK"
      },
      "cell_type": "code",
      "source": [
        "from webdriver_manager.firefox import GeckoDriverManager\n",
        "from selenium import webdriver\n",
        "from pyvirtualdisplay import Display\n",
        "\n",
        "REMOTE=True\n",
        "if REMOTE:\n",
        "    display = Display(visible=0, size=(800, 600))\n",
        "    display.start()\n",
        "\n",
        "try:\n",
        "    browser = webdriver.Firefox(executable_path=\n",
        "                '{}/.wdm/geckodriver/v0.23.0/linux64/geckodriver'.format(home))\n",
        "except WebDriverException:\n",
        "    browser = webdriver.Firefox(executable_path=\n",
        "                GeckoDriverManager().install())\n",
        "\n",
        "if REMOTE:\n",
        "    #https://stackoverflow.com/a/17536547/2268280\n",
        "    browser.set_page_load_timeout(30)\n",
        "\n",
        "browser.get('http://fisica.udea.edu.co')\n",
        "\n",
        "browser.find_element_by_link_text('Instituto').click()"
      ],
      "execution_count": null,
      "outputs": []
    },
    {
      "metadata": {
        "id": "6DhdXw9tr5sm"
      },
      "cell_type": "code",
      "source": [
        "browser.close()"
      ],
      "execution_count": null,
      "outputs": []
    }
  ]
}